{
 "cells": [
  {
   "cell_type": "markdown",
   "metadata": {},
   "source": [
    "# Linear Systems\n",
    "## Overview of Linear Algebra\n",
    "\n",
    "In the last course, we explored the framework of **calculus** and used it to:\n",
    "\n",
    "* understand the slope of linear functions\n",
    "* understand the derivative (slope as a function) of nonlinear functions\n",
    "* find extreme values in nonlinear functions\n",
    "\n",
    "While we learned the basics of slope through linear functions, we primarily focused on nonlinear functions in the last course.<br>\n",
    "\n",
    "In this course, we'll focus on understanding linear functions. Specifically, we'll explore the framework of **linear algebra**, which provides a way to represent and understand the solutions to systems of linear equations. A **system of linear equations** consists of multiple, related functions with a common set of variables. The word **linear equation** is often used interchangeably with **linear function**. Many real world processes can be modeled using multiple, related **linear equations**. We'll start by exploring a concrete example of a linear system, another word for system of linear equations, before we dive further into linear algebra.<br>\n",
    "\n",
    "#### Optimal Salary Problem\n",
    "Let's say we have to pick between 2 different job offers. The first job offer has a base weekly salary of 1000 dollars and pays 30 dollars an hour. We can represent this offer as $y=1000+30x$, where $y$ represents dollars earned that week and x represents hours worked that week. The second job offer has a base weekly salary of 100 dollars and pays 50 dollars an hour. We can represent this offer as $y=100+50x$, where $y$ also represents dollars earned that week and x also represents hours worked that week.<br>\n",
    "\n",
    "We want to understand which job offer is better. If we know exactly the amount of money we'd like to make each week ($y$), we can substitute that value into both equations and solve for $x$ to identify which job will require us to work less hours. If we know exactly the number of hours we want to work each week ($x$), we can substitute that value into both equations and solve for $y$ to identify which job will make us more money for the same amount of hours worked.<br>\n",
    "\n",
    "Instead, if we want to understand:\n",
    "\n",
    "* At what number of hours worked can we expect to make the same amount of money at either job?\n",
    "* How many hours do we have to work to make more money at the first job than the second job?\n",
    "\n",
    "To answer the first question, we need to find the x value where both the y values are equivalent. Once we know where they intersect, we can easily find out the answer to the second question.<br>\n",
    "\n",
    "Let's start by visualizing both of these equations on a plot and gaining a visual intuition for where they intersect."
   ]
  },
  {
   "cell_type": "code",
   "execution_count": 3,
   "metadata": {
    "collapsed": false
   },
   "outputs": [
    {
     "data": {
      "image/png": "[encoded data removed]",
      "text/plain": [
       "<matplotlib.figure.Figure at 0x248c05b0320>"
      ]
     },
     "metadata": {},
     "output_type": "display_data"
    }
   ],
   "source": [
    "import numpy as np\n",
    "import matplotlib.pyplot as plt\n",
    "\n",
    "x = np.linspace(0,50,1000)\n",
    "y1 = 30*x + 1000\n",
    "y2 = 50*x + 100\n",
    "\n",
    "plt.plot(x, y1, c='orange')\n",
    "plt.plot(x, y2, c='blue')\n",
    "plt.show()"
   ]
  },
  {
   "cell_type": "code",
   "execution_count": null,
   "metadata": {
    "collapsed": true
   },
   "outputs": [],
   "source": []
  },
  {
   "cell_type": "markdown",
   "metadata": {},
   "source": [
    "## Solving Linear Systems By Elimination\n",
    "\n",
    "From the plot we generated in the last screen, we can tell that both functions intersect at somewhere near the point $(45,2200)$.\n",
    "\n",
    "![](https://s3.amazonaws.com/dq-content/160/visual_solution.svg)\n",
    "\n",
    "This point where both equations intersect is known as a **solution** to the system, because substituting for x and y into both functions in the system makes both of them true. Said another way, plugging in the x value of the solution into both functions yields the same **y** value.<br>\n",
    "\n",
    "Let's explore how to solve this system by hand. Because both functions share the same variables, we can represent one of the variables, say y, in terms of the other variable and solve for the x value. Then, we can substitute this x value into either equation to determine the y value. This process is known as **solving by elimination** or the **elimination method**. Let's walkthrough how to apply this process to our system.<br>\n",
    "\n",
    "First, we'll substitute y in the second function with the first function:\n",
    "\n",
    "![](https://s3.amazonaws.com/dq-content/160/solve_elimination_1.svg)\n",
    "\n",
    "Note that order isn't important and we could have also substituted $y$ in the first function with the second function. Now that we know that $x=45$, we can substitute this into either equation to determine $y$.\n",
    "\n",
    "![](https://s3.amazonaws.com/dq-content/160/solve_elimination_2.svg)\n",
    "\n",
    "The solution to our system is $(45,2350)$. This means that if we work exactly $45$ hours a week, we'll make the same amount of money at either job: $2350$.<br>\n",
    "\n",
    "While we can solve a linear system like this by hand using arithmetic, we can't use the same technique to solve much more complex systems. Many real world systems are modeled using many more than 2 variables and functions and solving by hand is unfeasible.<br>\n",
    "\n",
    "Those types of systems can be solved using **linear algebra** using a variation of arithmetic elimination called **Gaussian elimination**. We'll walkthrough how to perform Gaussian elimination in the rest of this mission to find a solution to our linear system."
   ]
  },
  {
   "cell_type": "code",
   "execution_count": null,
   "metadata": {
    "collapsed": true
   },
   "outputs": [],
   "source": []
  },
  {
   "cell_type": "markdown",
   "metadata": {},
   "source": [
    "## Representing Functions In General Form\n",
    "\n"
   ]
  },
  {
   "cell_type": "code",
   "execution_count": null,
   "metadata": {
    "collapsed": true
   },
   "outputs": [],
   "source": []
  },
  {
   "cell_type": "code",
   "execution_count": null,
   "metadata": {
    "collapsed": true
   },
   "outputs": [],
   "source": []
  },
  {
   "cell_type": "code",
   "execution_count": null,
   "metadata": {
    "collapsed": true
   },
   "outputs": [],
   "source": []
  },
  {
   "cell_type": "code",
   "execution_count": null,
   "metadata": {
    "collapsed": true
   },
   "outputs": [],
   "source": []
  },
  {
   "cell_type": "code",
   "execution_count": null,
   "metadata": {
    "collapsed": true
   },
   "outputs": [],
   "source": []
  },
  {
   "cell_type": "code",
   "execution_count": null,
   "metadata": {
    "collapsed": true
   },
   "outputs": [],
   "source": []
  },
  {
   "cell_type": "code",
   "execution_count": null,
   "metadata": {
    "collapsed": true
   },
   "outputs": [],
   "source": []
  }
 ],
 "metadata": {
  "kernelspec": {
   "display_name": "Python [default]",
   "language": "python",
   "name": "python3"
  },
  "language_info": {
   "codemirror_mode": {
    "name": "ipython",
    "version": 3
   },
   "file_extension": ".py",
   "mimetype": "text/x-python",
   "name": "python",
   "nbconvert_exporter": "python",
   "pygments_lexer": "ipython3",
   "version": "3.5.4"
  }
 },
 "nbformat": 4,
 "nbformat_minor": 2
}
