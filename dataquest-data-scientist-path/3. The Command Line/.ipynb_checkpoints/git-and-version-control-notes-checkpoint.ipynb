{
 "cells": [
  {
   "cell_type": "markdown",
   "metadata": {},
   "source": [
    "# Index\n",
    "### Git and Version Control\n",
    "1. [Introduction to Git](#introduction-to-git)\n",
    "2. [Git Remotes](#git-remotes)\n",
    "3. [Git Branches](#git-branches)\n",
    "4. [Merge Conflicts](#merge-conflicts)"
   ]
  },
  {
   "cell_type": "code",
   "execution_count": null,
   "metadata": {
    "collapsed": true
   },
   "outputs": [],
   "source": []
  },
  {
   "cell_type": "markdown",
   "metadata": {},
   "source": [
    "## 1. <a name='introduction-to-git'></a>Introduction to Git\n",
    "\n",
    "Imagine that you both have the folder on your local machine. To modify files, you make changes, then upload the entire folder to a centralized location like Dropbox or Google Drive to enable collaboration. If you didn't have a distributed version control system, whoever changed the file last would overwrite the changes of the other person.<br>\n",
    "\n",
    "This approach becomes extremely frustrating and impossible to manage as you start dealing with larger and larger chunks of code. What if the folder had 100 files, you modified 10 of them, and your coworker modified 30 at the same time? You don't want to lose your changes every time your coworker uploads his version of the folder. Now, imagine that instead of just you and a coworker, it's a project with 10 or 100 contributors.<br>\n",
    "\n",
    "Companies face this problem every day, which is why distributed version control systems exist. These systems will \"merge\" changes together intelligently, enabling multiple developers to work on a project at the same time.<br>\n",
    "\n",
    "Going back to the script.py file, if we intelligently merged the two versions, the end result would look like this:\n",
    "\n",
    "```bash\n",
    "\n",
    "import math\n",
    "print(10 + 10)\n",
    "if __name__ == \"__main__\":\n",
    "    print(\"Welcome to a script!\")\n",
    "    print(\"Here's my amazing contribution to this project!\")\n",
    "\n",
    "```\n",
    "\n",
    "There are a few distributed version control systems, including [Mercurial](https://www.mercurial-scm.org/) and [Subversion](https://subversion.apache.org/). [Git](https://git-scm.com/) is by far the most popular, however.<br>\n",
    "\n",
    "Git is a command-line tool we can access by typing git in the shell. The first step in using Git is to initialize a folder as a repository. A repository (or \"repo\") tracks multiple versions of the files in the folder, enabling collaboration.<br>\n",
    "\n",
    "We can initialize a repository by typing git init inside the folder we want to use for our project.\n",
    "\n"
   ]
  },
  {
   "cell_type": "markdown",
   "metadata": {},
   "source": [
    "```bash\n",
    "/home/dq$ mkdir random_numbers\n",
    "/home/dq$ cd random_numbers/\n",
    "/home/dq/random_numbers$ git init\n",
    "Iniitialized empty Git repository in /home/dq/random_numbers/.git/\n",
    "/home/dq/random_numbers$ ls -al\n",
    "total 12                                                          \n",
    "drwxr-xr-x 3 dq dq 4096 Nov 16 06:43 .                            \n",
    "drwxr-xr-x 1 dq dq 4096 Nov 16 06:43 ..                           \n",
    "drwxr-xr-x 7 dq dq 4096 Nov 16 06:43 .git\n",
    "/home/dq/random_numbers$ \n",
    "```"
   ]
  },
  {
   "cell_type": "code",
   "execution_count": null,
   "metadata": {
    "collapsed": true
   },
   "outputs": [],
   "source": []
  },
  {
   "cell_type": "markdown",
   "metadata": {},
   "source": [
    "### Commit?\n",
    "* storing a checkpoint (snapshot) of changes\n",
    "* These checkpoints are called `commits`.\n",
    "\n",
    "Files can have one of three states in Git:\n",
    "\n",
    "* `committed` - The current version of the file has been added to a commit, and Git has stored it.\n",
    "* `staged` - The file has been marked for inclusion in the next commit, but hasn't been committed yet (and Git hasn't stored it yet). You might stage one file before working on a second file, for example, then commit both files at the same time when you're done.\n",
    "* `modified` - The file has been modified since the last commit, but isn't staged yet.\n",
    "\n",
    "After we make changes to a Git repository, we can run the git status command to check the state of each file within it. Any files that don't show up in git status are in the committed state (i.e., don't have unsaved changes).\n"
   ]
  },
  {
   "cell_type": "markdown",
   "metadata": {},
   "source": [
    "```bash\n",
    "/home/dq/random_numbers$ touch README.md | echo \"Random number generator\" > README.md\n",
    "/home/dq/random_numbers$ nano script.py\n",
    "\n",
    "--- script.py\n",
    "if __name__ == \"__main__\":\n",
    "    print(\"10\")\n",
    "---\n",
    "\n",
    "/home/dq/random_numbers$ git status\n",
    "On branch master                                                  \n",
    "                                                                  \n",
    "Initial commit                                                    \n",
    "                                                                  \n",
    "Untracked files:                                                  \n",
    "  (use \"git add <file>...\" to include in what will be committed)  \n",
    "                                                                  \n",
    "        README.md                                                 \n",
    "        script.py                                                 \n",
    "                                                                  \n",
    "nothing added to commit but untracked files present (use \"git add\"\n",
    " to track)\n",
    "/home/dq/random_numbers$ git add script.py\n",
    "/home/dq/random_numbers$ git add README.md\n",
    "```"
   ]
  },
  {
   "cell_type": "code",
   "execution_count": null,
   "metadata": {
    "collapsed": true
   },
   "outputs": [],
   "source": []
  },
  {
   "cell_type": "markdown",
   "metadata": {},
   "source": [
    "### Git config\n",
    "Before we can make our first commit, we need to tell Git who we are so it can store that information along with the commit. This step ensures that all of the members on a team can tell who made a certain commit.\n",
    "\n",
    "* We can do this by running `git config`. We only need to run this command once per computer, because Git will save the information.\n",
    "\n",
    "```bash\n",
    "git config --global user.email \"your.email@domain.com\"\n",
    "```\n",
    "You can configure your name with:\n",
    "```bash\n",
    "git config --global user.name \"Your name\"\n",
    "```\n",
    "Example\n",
    "```bash\n",
    "/home/dq/random_numbers$ git config --global user.email \"choi@gmai\n",
    "l.com\"                                                            \n",
    "/home/dq/random_numbers$ git config --global user.name \"choi\" \n",
    "```"
   ]
  },
  {
   "cell_type": "markdown",
   "metadata": {},
   "source": []
  },
  {
   "cell_type": "code",
   "execution_count": null,
   "metadata": {
    "collapsed": true
   },
   "outputs": [],
   "source": []
  },
  {
   "cell_type": "markdown",
   "metadata": {},
   "source": [
    "### Commit\n",
    "\n",
    "```bash\n",
    "git commit -m \"Commit message here\"\n",
    "```\n",
    "* The -m flag indicates that we're adding a message\n",
    "\n",
    "```bash\n",
    "/home/dq/random_numbers$ git commit -m \"Initial commit. Added scri\n",
    "pt.py and README.md\"                                              \n",
    "[master (root-commit) 5f80e59] Initial commit. Added script.py and\n",
    " README.md                                                        \n",
    " 2 files changed, 3 insertions(+)                                 \n",
    " create mode 100644 README.md                                     \n",
    " create mode 100644 script.py\n",
    "```"
   ]
  },
  {
   "cell_type": "markdown",
   "metadata": {},
   "source": []
  },
  {
   "cell_type": "code",
   "execution_count": null,
   "metadata": {
    "collapsed": true
   },
   "outputs": [],
   "source": []
  },
  {
   "cell_type": "markdown",
   "metadata": {},
   "source": [
    "### Modify & make another commit\n",
    "\n",
    "Before we place a file in the staging area, we can use `git diff` to see all of the line differences between the current and previous version. We can scroll up and down with the arrow keys, and exit `git diff` with the `q` key. If we want to see the differences after we stage a file, we can use `git diff --staged`."
   ]
  },
  {
   "cell_type": "markdown",
   "metadata": {},
   "source": [
    "[Instructions]\n",
    "script.py isn't exactly a random number generator right now.\n",
    "* Modify it so that it prints a random integer from 0 to 10. You can import and use random.randint for this.\n",
    "* Afterwards, type git diff to see how Git is tracking modifications.\n",
    "* Finally, type git status to see the status of the file you modified."
   ]
  },
  {
   "cell_type": "markdown",
   "metadata": {},
   "source": [
    "```bash\n",
    "/home/dq/random_numbers$ nano script.py\n",
    "\n",
    "--- script.py\n",
    "\n",
    "import random\n",
    "\n",
    "if __name__ == \"__main__\": \n",
    "    print(random.randint(0,10))\n",
    "\n",
    "---\n",
    "\n",
    "/home/dq/random_numbers$ git diff\n",
    "\n",
    "diff --git a/script.py b/script.py                                \n",
    "index ca99880..889eee7 100644                                     \n",
    "--- a/script.py                                                   \n",
    "+++ b/script.py                                                   \n",
    "@@ -1,2 +1,4 @@                                                   \n",
    "+import random                                                    \n",
    "+                                                                 \n",
    " if __name__ == \"__main__\":                                       \n",
    "-       print(\"10\")                                               \n",
    "+       print(random.randint(0,10)) \n",
    "\n",
    "/home/dq/random_numbers$ git status\n",
    "\n",
    "On branch master                                                  \n",
    "Changes not staged for commit:                                    \n",
    "  (use \"git add <file>...\" to update what will be committed)      \n",
    "  (use \"git checkout -- <file>...\" to discard changes in working d\n",
    "irectory)                                                         \n",
    "                                                                  \n",
    "        modified:   script.py                                     \n",
    "                                                                  \n",
    "no changes added to commit (use \"git add\" and/or \"git commit -a\") \n",
    "\n",
    "```"
   ]
  },
  {
   "cell_type": "code",
   "execution_count": null,
   "metadata": {
    "collapsed": true
   },
   "outputs": [],
   "source": []
  },
  {
   "cell_type": "markdown",
   "metadata": {},
   "source": [
    "### Add the changes to the staging area\n",
    "\n",
    "```bash\n",
    "/home/dq/random_numbers$ git add script.py\n",
    "/home/dq/random_numbers$ git commit script.py -m \"modify script.py\"\n",
    "\n",
    "[master 9b3f977] modify script.py                                 \n",
    " 1 file changed, 3 insertions(+), 1 deletion(-)  \n",
    "```\n",
    "\n",
    "* We can pull up a repository's commit history using the git log command.\n",
    "  * We can scroll through the log with the up and down arrows, and use the q key to exit.\n",
    "  \n",
    "```bash\n",
    "/home/dq/random_numbers$ git log\n",
    "\n",
    "commit 9b3f9771c4daf16d23995733efeb1b33d982eccf                   \n",
    "Author: choi <choi@gmail.com>                                     \n",
    "Date:   Thu Nov 16 07:06:19 2017 +0000                            \n",
    "                                                                  \n",
    "    modify script.py                                              \n",
    "                                                                  \n",
    "commit 5f80e5990411499332634fb05194fb389cbd72a0                   \n",
    "Author: choi <choi@gmail.com>                                     \n",
    "Date:   Thu Nov 16 06:57:36 2017 +0000                            \n",
    "                                                                  \n",
    "    Initial commit. Added script.py and README.md\n",
    "```"
   ]
  },
  {
   "cell_type": "markdown",
   "metadata": {},
   "source": []
  },
  {
   "cell_type": "markdown",
   "metadata": {},
   "source": [
    "* We can use git log --stat to see more details about the commits in the git log output.\n",
    "\n",
    "```bash\n",
    "/home/dq/random_numbers$ git log --stat\n",
    "\n",
    "commit 9b3f9771c4daf16d23995733efeb1b33d982eccf                   \n",
    "Author: choi <choi@gmail.com>                                     \n",
    "Date:   Thu Nov 16 07:06:19 2017 +0000                            \n",
    "                                                                  \n",
    "    modify script.py                                              \n",
    "                                                                  \n",
    " script.py | 4 +++-                                               \n",
    " 1 file changed, 3 insertions(+), 1 deletion(-)                   \n",
    "                                                                  \n",
    "commit 5f80e5990411499332634fb05194fb389cbd72a0                   \n",
    "Author: choi <choi@gmail.com>                                     \n",
    "Date:   Thu Nov 16 06:57:36 2017 +0000                            \n",
    "                                                                  \n",
    "    Initial commit. Added script.py and README.md                 \n",
    "                                                                  \n",
    " README.md | 1 +                                                  \n",
    " script.py | 2 ++                                                 \n",
    " 2 files changed, 3 insertions(+) \n",
    "```\n"
   ]
  },
  {
   "cell_type": "markdown",
   "metadata": {},
   "source": []
  },
  {
   "cell_type": "markdown",
   "metadata": {},
   "source": [
    "## 2. <a name='git-remotes'></a>Git Remotes"
   ]
  },
  {
   "cell_type": "markdown",
   "metadata": {},
   "source": [
    "Remote repositories also enable us to access and use code we didn't write. For instance, this repo will let us download Amazon's Deep Learning tools and start training models. Because the reposistory is public, anyone can download and use it. Repositories on GitHub can also be private, in which case they're hidden, and not accessible to others.<br>\n",
    "\n",
    "To download a remote repository to your own computer, you'll need to clone it. cloning copies a repository from one location (in this case, a remote one) to a folder on your computer. The repository retains all of its Git history, and you can work with it just like you would with a Git repository you created yourself.\n",
    "\n",
    "* Here's how we'd typically clone the Amazon Deep Learning repo from GitHub:\n",
    "\n",
    "```bash\n",
    "git clone https://github.com/amznlabs/amazon-dsstne.git\n",
    "````\n",
    "\n",
    "However, because we're working with a simplified remote repository for the purposes of this mission, we'll clone it a bit differently:\n",
    "\n",
    "```bash\n",
    "git clone /dataquest/user/git/chatbot\n",
    "```\n",
    "This will clone the repository from /dataquest/user/git/chatbot, a path on our local computer, to our current folder, and place it in a subfolder named chatbot."
   ]
  },
  {
   "cell_type": "code",
   "execution_count": null,
   "metadata": {
    "collapsed": true
   },
   "outputs": [],
   "source": []
  },
  {
   "cell_type": "markdown",
   "metadata": {},
   "source": [
    "If we specify a second argument to git clone, we can change the folder the repository saves to:\n",
    "\n",
    "```bash\n",
    "git clone /dataquest/user/git/chatbot silentbot\n",
    "```\n",
    "This command will place the chatbot repository in a folder called silentbot."
   ]
  },
  {
   "cell_type": "markdown",
   "metadata": {},
   "source": []
  },
  {
   "cell_type": "markdown",
   "metadata": {},
   "source": [
    "Now that we've cloned a repository, we can makes changes to it, just like we did in the last mission. We'll be able to edit files, add them to the staging area, and then commit the changes. **The local version of the repo will then reflect the changes, but the remote version won't.**"
   ]
  },
  {
   "cell_type": "markdown",
   "metadata": {},
   "source": [
    "[Remote] --- git clone ---> [Local] -- git commit ---> [Local]"
   ]
  },
  {
   "cell_type": "markdown",
   "metadata": {},
   "source": []
  },
  {
   "cell_type": "markdown",
   "metadata": {},
   "source": [
    "* cd into the /home/dq/chatbot folder to navigate to the chatbot repo.\n",
    "* Add the line This project needs no installation to the bottom of README.md.\n",
    "* Add your changes to the staging area using git add.\n",
    "* Commit your changes using git commit, with the commit message Updated README.md.\n",
    "* Run git status to see the status of the repo."
   ]
  },
  {
   "cell_type": "markdown",
   "metadata": {},
   "source": [
    "```bash\n",
    "/home/dq$ cd chatbot/                                             \n",
    "/home/dq/chatbot$ ls -al                                          \n",
    "total 16                                                          \n",
    "drwxr-xr-x 3 dq dq 4096 Nov 16 07:21 .                            \n",
    "drwxr-xr-x 1 dq dq 4096 Nov 16 07:21 ..                           \n",
    "drwxr-xr-x 8 dq dq 4096 Nov 16 07:21 .git                         \n",
    "-rwxr-xr-x 1 dq dq  182 Nov 16 07:21 README.md                    \n",
    "/home/dq/chatbot$ echo \"This project needs no installation\" >> REA\n",
    "DME.md                                                            \n",
    "/home/dq/chatbot$ git commit README.md -m \"Updated README.md\"     \n",
    "[master 4cfc851] Updated README.md                                \n",
    " 1 file changed, 1 insertion(+), 1 deletion(-)                    \n",
    "/home/dq/chatbot$ git status                                      \n",
    "On branch master                                                  \n",
    "Your branch is ahead of 'origin/master' by 1 commit.              \n",
    "  (use \"git push\" to publish your local commits)                  \n",
    "                                                                  \n",
    "nothing to commit, working directory clean  \n",
    "```"
   ]
  },
  {
   "cell_type": "markdown",
   "metadata": {},
   "source": []
  },
  {
   "cell_type": "markdown",
   "metadata": {},
   "source": [
    "#### Branches"
   ]
  },
  {
   "cell_type": "markdown",
   "metadata": {},
   "source": [
    "```bash\n",
    "/home/dq/chatbot$ git branch\n",
    "* master\n",
    "```\n",
    "\n",
    "Once we've made changes to the local version of a repo, we can push those changes to the remote repo so that everyone can see them. Edits we make locally are only reflected in our local repo. Unless we push them to the remote, the remote repo doesn't change.\n",
    "\n",
    "* To do this, we'll need to use the git push command, which **pushes commits from our local repo to the remote repo**. Here's a diagram showing what happens when we run git push:"
   ]
  },
  {
   "cell_type": "markdown",
   "metadata": {},
   "source": [
    "**[Remote]** --clone--> **[Local]** --commit--> **[Local]** --push--> **[Remote]**\n",
    "\n",
    "```bash\n",
    "/home/dq/chatbot$ git push origin master\n",
    "Counting objects: 5, done.                                          \n",
    "Delta compression using up to 16 threads.                           \n",
    "Compressing objects: 100% (2/2), done.                              \n",
    "Writing objects: 100% (3/3), 306 bytes | 0 bytes/s, done.           \n",
    "Total 3 (delta 1), reused 0 (delta 0)                               \n",
    "To /dataquest/user/git/chatbot                                      \n",
    "   f1bfcdf..4cfc851  master -> master   \n",
    "```"
   ]
  },
  {
   "cell_type": "markdown",
   "metadata": {},
   "source": []
  },
  {
   "cell_type": "markdown",
   "metadata": {},
   "source": [
    "#### Viewing Individual Commits\n",
    "\n",
    "You can see the full commit history of the master branch of the local chatbot repo with git log. Here's the output you might get from git log:\n",
    "\n",
    "```bash\n",
    "commit 6a95e94ea10caa28013b767510d4bc59369d83fa                                 \n",
    "Author: Dataquest <me@dataquest.io>                                             \n",
    "Date:   Wed May 18 21:56:27 2016 +0000                                          \n",
    "\n",
    "    Updated README.md                                                           \n",
    "\n",
    "commit 8a1ca35dd5c5de8f93aa6cbbd153caa40233386c                                 \n",
    "Author: Dataquest <me@dataquest.io>                                             \n",
    "Date:   Wed May 18 21:55:33 2016 +0000                                          \n",
    "\n",
    "    Add the initial version of README.md    \n",
    "</me@dataquest.io></me@dataquest.io>\n",
    "```"
   ]
  },
  {
   "cell_type": "code",
   "execution_count": null,
   "metadata": {
    "collapsed": true
   },
   "outputs": [],
   "source": []
  },
  {
   "cell_type": "markdown",
   "metadata": {},
   "source": [
    "The great thing about Git is that \n",
    "### it stores both commits, so we can quickly revert back to a previous commit if we want to.\n",
    "\n",
    "To do this, we'd need to use the commit's hash, or unique identifier. Hashes allow us to perform operations like revert to a specific commit. We can find **the hash for a commit** in the output from git log. In the output we generated above, the first commit has the ID `8a1ca35dd5c5de8f93aa6cbbd153caa40233386c`, and the second commit has the ID `6a95e94ea10caa28013b767510d4bc59369d83fa`."
   ]
  },
  {
   "cell_type": "code",
   "execution_count": null,
   "metadata": {
    "collapsed": true
   },
   "outputs": [],
   "source": []
  },
  {
   "cell_type": "markdown",
   "metadata": {},
   "source": [
    "We can use the `git show` command with a hash to see what changed in a specific commit. For example, running `git show 6a95e94ea10caa28013b767510d4bc59369d83fa` would return:\n",
    "\n",
    "```bash\n",
    "commit 6a95e94ea10caa28013b767510d4bc59369d83fa                                 \n",
    "Author: Dataquest <me@dataquest.io>                                             \n",
    "Date:   Wed May 18 21:56:27 2016 +0000                                          \n",
    "\n",
    "    Updated README.md                                                           \n",
    "\n",
    "diff --git a/README.md b/README.md                                              \n",
    "index f4871de..9c05964 100644                                                   \n",
    "--- a/README.md                                                                 \n",
    "+++ b/README.md                                                                 \n",
    "@@ -1,3 +1,3 @@                                                                 \n",
    " README\n",
    "\n",
    "-This is a README file.  It's typical for GitHub projects to have a README.  A README gives information about what the project is about, and usually how to install and use it.\n",
    "\\ No newline at end of file                                                     \n",
    "+This is a README file.  It's typical for GitHub projects to have a README.  A README gives information about what the project is about, and usually how to install and use it.This project needs no installation!\n",
    "</me@dataquest.io>\n",
    "```"
   ]
  },
  {
   "cell_type": "markdown",
   "metadata": {},
   "source": [
    "This output indicates that someone changed the `README.md` file in this commit, and added the line `This project needs no installation!`. `a/README.md` is the file state before the commit, and `b/README.md` is the file state after the commit.\n",
    "\n",
    "`git show` will allow us to scroll up and down and side to side. We can exit by typing `q`."
   ]
  },
  {
   "cell_type": "markdown",
   "metadata": {},
   "source": []
  },
  {
   "cell_type": "markdown",
   "metadata": {},
   "source": [
    "### Now that we know about commit hashes, we can use them to switch to a specific commit. \n",
    "Switching between commits allows us to quickly move between different historical versions of a project. If we introduce a change that causes issues and want to revert to an earlier version, for example, switching between commits will let us do so.\n",
    "\n",
    "**Commit hashes are permanent;** Git preserves them and includes them **in transfers between the local repo and the remote repo**. For instance, let's say we have two commits, c12 and c53. The following diagram shows what happens to them as we clone, commit, and push."
   ]
  },
  {
   "cell_type": "markdown",
   "metadata": {},
   "source": [
    "**Remote(c12)** --clone--> **Local(c12)** --commit--> **Local(c53)** --push-> **Remote(c53)**"
   ]
  },
  {
   "cell_type": "markdown",
   "metadata": {},
   "source": []
  },
  {
   "cell_type": "markdown",
   "metadata": {},
   "source": [
    "c12 originally existed on the remote, but when we pulled it locally, the commit kept the same hash. This is because the commit is the same in the remote and our local repo -- the same changes were made to the same files."
   ]
  },
  {
   "cell_type": "markdown",
   "metadata": {},
   "source": [
    "When we changed a file and made a commit locally, Git gave it the hash c53. When we pushed this commit to the remote later on, it kept the same hash because it was still the same commit. In the diagram above, both the local repo and the remote repo have two commits, c12 and c53. \n",
    "* We can switch between commits in the local repo without changing what commits are in the remote repo. We can do this with the git reset command:"
   ]
  },
  {
   "cell_type": "markdown",
   "metadata": {},
   "source": [
    "* **Local(c12)** --`git commit`--> **Local(c53)**\n",
    "\n",
    "* **Local(c53)** --`git reset --hard c12`--> **Local(12)**"
   ]
  },
  {
   "cell_type": "markdown",
   "metadata": {},
   "source": [
    "The `--hard` flag resets both the working directory and the Git history to a specific state. \n",
    "* If we omitted the flag, or used the `--soft` flag instead, it would **skip making changes to the working directory, and only reset the Git history.**"
   ]
  },
  {
   "cell_type": "markdown",
   "metadata": {},
   "source": [
    "```bash\n",
    "/home/dq/chatbot$ git log                                                    \n",
    "commit 62b6226547b9f3280c572e28db55012b342f661d                              \n",
    "Author: Dataquest <me@dataquest.io>                                          \n",
    "Date:   Thu Nov 16 08:31:12 2017 +0000                                       \n",
    "                                                                             \n",
    "    Updated README.md                                                        \n",
    "                                                                             \n",
    "commit ac26d53c8ab859d8dd4f39df0eb5080245372513                              \n",
    "Author: Dataquest <me@dataquest.io>                                          \n",
    "Date:   Thu Nov 16 08:31:11 2017 +0000                                       \n",
    "                                                                             \n",
    "    Add the initial version of README.md                                     \n",
    "/home/dq/chatbot$ git reset --hard ac26d53c8ab859d8dd4f39df0eb5080245372513  \n",
    "HEAD is now at ac26d53 Add the initial version of README.md  \n",
    "```"
   ]
  },
  {
   "cell_type": "markdown",
   "metadata": {},
   "source": []
  },
  {
   "cell_type": "markdown",
   "metadata": {},
   "source": [
    "Now that we've reverted our local chatbot repo to an older version, the remote repo actually has a newer commit that our local repo doesn't have."
   ]
  },
  {
   "cell_type": "markdown",
   "metadata": {},
   "source": [
    "which commits exist in which locations:\n",
    "* Remote(c12) **current state**\n",
    "    * Remote(c53) **latest commit**\n",
    "* Local(c12) **current state**"
   ]
  },
  {
   "cell_type": "markdown",
   "metadata": {},
   "source": [
    "### When the latest commit in our local repo is older than the latest commit in the remote repo, \n",
    "we can use `git pull` to update the current branch with the latest commits. The git pull command will also update our working directory so that it has the same files as the latest commit.\n",
    "\n",
    "* In our case, we'll be updating the master branch, because the chatbot repo only has a single branch."
   ]
  },
  {
   "cell_type": "markdown",
   "metadata": {},
   "source": [
    "```bash\n",
    "/home/dq/chatbot$ git pull                                             \n",
    "Updating ac26d53c8ab859d8dd4f39df0eb5080245372513\n",
    "Fast-forward                                                           \n",
    "README.md | 2 +-                                                      \n",
    " 1 file changed, 1 insertion(+), 1 deletion(-) \n",
    "```"
   ]
  },
  {
   "cell_type": "markdown",
   "metadata": {},
   "source": []
  },
  {
   "cell_type": "markdown",
   "metadata": {},
   "source": [
    "When using Git, we'll often want to refer to the most recent commit. While we can use the full commit hash, that approach can be cumbersome. \n",
    "### Fortunately, Git has a special variable called `HEAD` that always refers to the most recent commit in the current branch.\n",
    "**We can use the `HEAD` variable to switch to the most recent commit more easily**. Let's say we modify a file and then want to undo our changes; using `HEAD` will revert the working directory to the state of the most recent commit.\n",
    "* We can also use shortcuts to get older commit hashes. `HEAD~1` will get the second newest commit in the local repo, `HEAD~2` will get the third newest commit, and so on. Here's a diagram of a local repo where 646 is the newest hash on the master branch, and c12 is the oldest:\n",
    "\n",
    "Local Commit Hash | HEAD Reference\n",
    ":---:|:---:\n",
    "c12|HEAD~4\n",
    "c53|HEAD~3\n",
    "d24|HEAD~2\n",
    "t35|HEAD~1\n",
    "646|HEAD\n",
    "\n",
    "We can use [git rev-parse](https://git-scm.com/docs/git-rev-parse) along with the `HEAD` variable **to find the commit hash corresponding to a particular commit number**. In the diagram above, `git rev-parse HEAD` will return `646`, and `git rev-parse HEAD~3` will return `c53`."
   ]
  },
  {
   "cell_type": "markdown",
   "metadata": {},
   "source": [
    "```bash\n",
    "/home/dq/chatbot$ git rev-parse HEAD~1                                 \n",
    "ac26d53c8ab859d8dd4f39df0eb5080245372513                               \n",
    "/home/dq/chatbot$ git rev-parse HEAD~2                                 \n",
    "HEAD~2                                                                 \n",
    "fatal: ambiguous argument 'HEAD~2': unknown revision or path not in the\n",
    " working tree.                                                         \n",
    "Use '--' to separate paths from revisions, like this:                  \n",
    "'git <command> [<revision>...] -- [<file>...]'                         \n",
    "/home/dq/chatbot$ git reset HEAD~1                                     \n",
    "Unstaged changes after reset:                                          \n",
    "M       README.md  \n",
    "```"
   ]
  },
  {
   "cell_type": "markdown",
   "metadata": {},
   "source": []
  },
  {
   "cell_type": "markdown",
   "metadata": {},
   "source": [
    "## 3. <a name='git-branches'></a>Git Branches"
   ]
  },
  {
   "cell_type": "markdown",
   "metadata": {},
   "source": [
    "As you may recall from the last mission, it's very common for large teams to use Git. That's because Git enables smooth collaboration between many programmers who are all making changes to a repo at the same time.\n",
    "\n",
    "* Even so, this type of situation makes it difficult for everyone to work off of the master branch. To understand why, let's imagine that we start out with two files, bot.py and README.md:"
   ]
  },
  {
   "cell_type": "markdown",
   "metadata": {},
   "source": [
    "README.md - \"Here's some stuff!\"<br>\n",
    "bot.py - print(\"I'm a bot!\")"
   ]
  },
  {
   "cell_type": "markdown",
   "metadata": {},
   "source": [
    "Let's say we have three people working on a team -- Seashell Sally, Rocky Raccoon, and Superman. Each person makes the following changes:"
   ]
  },
  {
   "cell_type": "markdown",
   "metadata": {},
   "source": []
  },
  {
   "cell_type": "markdown",
   "metadata": {},
   "source": []
  },
  {
   "cell_type": "markdown",
   "metadata": {},
   "source": []
  },
  {
   "cell_type": "markdown",
   "metadata": {},
   "source": []
  },
  {
   "cell_type": "markdown",
   "metadata": {},
   "source": []
  },
  {
   "cell_type": "markdown",
   "metadata": {},
   "source": []
  },
  {
   "cell_type": "markdown",
   "metadata": {},
   "source": []
  },
  {
   "cell_type": "markdown",
   "metadata": {},
   "source": []
  },
  {
   "cell_type": "markdown",
   "metadata": {},
   "source": []
  },
  {
   "cell_type": "markdown",
   "metadata": {},
   "source": []
  },
  {
   "cell_type": "markdown",
   "metadata": {},
   "source": []
  },
  {
   "cell_type": "markdown",
   "metadata": {},
   "source": []
  },
  {
   "cell_type": "markdown",
   "metadata": {},
   "source": []
  },
  {
   "cell_type": "code",
   "execution_count": null,
   "metadata": {
    "collapsed": true
   },
   "outputs": [],
   "source": []
  },
  {
   "cell_type": "code",
   "execution_count": null,
   "metadata": {
    "collapsed": true
   },
   "outputs": [],
   "source": []
  },
  {
   "cell_type": "code",
   "execution_count": null,
   "metadata": {
    "collapsed": true
   },
   "outputs": [],
   "source": []
  },
  {
   "cell_type": "code",
   "execution_count": null,
   "metadata": {
    "collapsed": true
   },
   "outputs": [],
   "source": []
  }
 ],
 "metadata": {
  "kernelspec": {
   "display_name": "Python [default]",
   "language": "python",
   "name": "python3"
  },
  "language_info": {
   "codemirror_mode": {
    "name": "ipython",
    "version": 3
   },
   "file_extension": ".py",
   "mimetype": "text/x-python",
   "name": "python",
   "nbconvert_exporter": "python",
   "pygments_lexer": "ipython3",
   "version": "3.5.4"
  }
 },
 "nbformat": 4,
 "nbformat_minor": 2
}
