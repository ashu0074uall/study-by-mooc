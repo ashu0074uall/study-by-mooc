{
 "cells": [
  {
   "cell_type": "markdown",
   "metadata": {},
   "source": [
    "# Introduction to SQL\n",
    "\n",
    "In previous missions, we primarily worked with data represented in a **CSV** file. The workflow looked something like this:\n",
    "![](https://s3.amazonaws.com/dq-content/252/pandas_workflow.svg)\n",
    "\n",
    "The pandas workflow works well when:\n",
    "\n",
    "* the data fits in memory (**a few gigabytes but not terabytes**)\n",
    "* the data is **relatively static** (doesn't need to be loaded into memory every minute because the data has changed)\n",
    "* **only a single person is accessing** the data (shared access to memory is difficult)\n",
    "* **security isn't important** (security is critical for company scale production situations)"
   ]
  },
  {
   "cell_type": "code",
   "execution_count": null,
   "metadata": {
    "collapsed": true
   },
   "outputs": [],
   "source": []
  },
  {
   "cell_type": "markdown",
   "metadata": {},
   "source": [
    "When the data\n",
    "* changes frequently, \n",
    "* requires shared access, \n",
    "* doesn't fit in memory, \n",
    "* and security is critical, \n",
    "### a database is a much better solution. \n",
    "\n",
    "A database is a data representation that lives on disk that can be queried, accessed, and updated without using much memory. We primarily interact with a database using a [database management system or DBMS](https://en.wikipedia.org/wiki/Database) for short."
   ]
  },
  {
   "cell_type": "markdown",
   "metadata": {},
   "source": [
    "In the pandas workflow, we spend most of our time thinking about what functions and methods to use, where to store intermediate results in variables, and juggling all of these. To work with data stored in a database, we instead use a language called SQL (or structured query language). In SQL, we express each unique request (whether it be fetching a subset of or editing values in the data) as a single query and then ask the DBMS to run the query and display any results."
   ]
  },
  {
   "cell_type": "code",
   "execution_count": null,
   "metadata": {
    "collapsed": true
   },
   "outputs": [],
   "source": []
  },
  {
   "cell_type": "code",
   "execution_count": null,
   "metadata": {
    "collapsed": true
   },
   "outputs": [],
   "source": []
  },
  {
   "cell_type": "code",
   "execution_count": null,
   "metadata": {
    "collapsed": true
   },
   "outputs": [],
   "source": []
  },
  {
   "cell_type": "code",
   "execution_count": null,
   "metadata": {
    "collapsed": true
   },
   "outputs": [],
   "source": []
  }
 ],
 "metadata": {
  "kernelspec": {
   "display_name": "Python [default]",
   "language": "python",
   "name": "python3"
  },
  "language_info": {
   "codemirror_mode": {
    "name": "ipython",
    "version": 3
   },
   "file_extension": ".py",
   "mimetype": "text/x-python",
   "name": "python",
   "nbconvert_exporter": "python",
   "pygments_lexer": "ipython3",
   "version": "3.5.4"
  }
 },
 "nbformat": 4,
 "nbformat_minor": 2
}
