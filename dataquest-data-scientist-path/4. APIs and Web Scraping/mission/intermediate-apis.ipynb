{
 "cells": [
  {
   "cell_type": "markdown",
   "metadata": {},
   "source": [
    "# Intermediate APIs\n",
    "\n",
    "We looked at a basic API in the last mission. That API didn't require authentication, but most do. Imagine that you're using the reddit API to pull a list of your private messages. **It would be a huge privacy breach for reddit to give that information to anyone, so requiring authentication makes sense.**\n",
    "<br>\n",
    "**APIs also use authentication to perform rate limiting**. Developers typically use APIs to build interesting applications or services. In order to ensure that it remains available and responsive for all users, an API will prevent you from making too many requests in too short a time. We call this restriction rate limiting. **It ensures that one user can't overload the API server by making too many requests too fast.**"
   ]
  },
  {
   "cell_type": "markdown",
   "metadata": {},
   "source": [
    "In this mission, we'll explore the GitHub API and use it to pull some interesting data on repositories and users. GitHub has \n",
    "\n",
    "* user accounts ([example](https://github.com/torvalds))\n",
    "* repositories that contain code ([example](https://github.com/torvalds/linux))\n",
    "* organizations that companies can create ([example](https://github.com/dataquestio)).\n",
    "\n",
    "Take a look at the [documentation for the GitHub API](https://developer.github.com/v3/), and specifically the [authentication section](https://developer.github.com/v3/#authentication)."
   ]
  },
  {
   "cell_type": "code",
   "execution_count": null,
   "metadata": {
    "collapsed": true
   },
   "outputs": [],
   "source": []
  },
  {
   "cell_type": "code",
   "execution_count": null,
   "metadata": {
    "collapsed": true
   },
   "outputs": [],
   "source": []
  },
  {
   "cell_type": "code",
   "execution_count": null,
   "metadata": {
    "collapsed": true
   },
   "outputs": [],
   "source": []
  },
  {
   "cell_type": "code",
   "execution_count": null,
   "metadata": {
    "collapsed": true
   },
   "outputs": [],
   "source": []
  }
 ],
 "metadata": {
  "kernelspec": {
   "display_name": "Python [default]",
   "language": "python",
   "name": "python3"
  },
  "language_info": {
   "codemirror_mode": {
    "name": "ipython",
    "version": 3
   },
   "file_extension": ".py",
   "mimetype": "text/x-python",
   "name": "python",
   "nbconvert_exporter": "python",
   "pygments_lexer": "ipython3",
   "version": "3.5.4"
  }
 },
 "nbformat": 4,
 "nbformat_minor": 2
}
