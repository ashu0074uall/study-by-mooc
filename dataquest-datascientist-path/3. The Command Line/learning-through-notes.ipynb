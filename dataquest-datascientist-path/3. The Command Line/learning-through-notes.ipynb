{
 "cells": [
  {
   "cell_type": "markdown",
   "metadata": {},
   "source": [
    "# Working with Programs"
   ]
  },
  {
   "cell_type": "markdown",
   "metadata": {},
   "source": [
    "While there are many UNIX shells, Bash is one of the most popular. Bash is the default shell on most Linux and OS X computers.<br><br>Bash is essentially a program that lets us run other programs. It does this by implementing a command language. This language specifies how to type and structure the commands we want to execute."
   ]
  },
  {
   "cell_type": "code",
   "execution_count": null,
   "metadata": {
    "collapsed": true
   },
   "outputs": [],
   "source": []
  },
  {
   "cell_type": "markdown",
   "metadata": {},
   "source": [
    "It's also important to avoid adding stray spaces around the equals sign. For example, this assignment will fail:\n",
    "\n",
    "```bash\n",
    "ANIMAL=Shark with a laser beam on its head\n",
    "ANIMAL=\"Shark with a laser beam on its head\"\n",
    "```"
   ]
  },
  {
   "cell_type": "code",
   "execution_count": null,
   "metadata": {
    "collapsed": true
   },
   "outputs": [],
   "source": []
  },
  {
   "cell_type": "markdown",
   "metadata": {},
   "source": [
    "* Type export FOOD=\"Chicken and waffles\" to create an environment variable called FOOD."
   ]
  },
  {
   "cell_type": "markdown",
   "metadata": {},
   "source": [
    "```bash\n",
    "export FOOD=\"Chicken and waffles\"\n",
    "```"
   ]
  },
  {
   "cell_type": "code",
   "execution_count": null,
   "metadata": {
    "collapsed": true
   },
   "outputs": [],
   "source": []
  },
  {
   "cell_type": "markdown",
   "metadata": {},
   "source": [
    "We can run many programs from Bash, including Python. To run the Python interpreter from the Bash shell, we type python at the command prompt.<br><br>Once we're inside the command prompt, we can access the environment variables with commands that look like this:"
   ]
  },
  {
   "cell_type": "markdown",
   "metadata": {},
   "source": [
    "```bash\n",
    "import os\n",
    "print(os.environ[\"home\"])\n",
    "```"
   ]
  },
  {
   "cell_type": "code",
   "execution_count": null,
   "metadata": {
    "collapsed": true
   },
   "outputs": [],
   "source": []
  },
  {
   "cell_type": "markdown",
   "metadata": {},
   "source": [
    "On the last screen, we typed /usr/bin/python to access the Python interpreter. If the Python interpreter is at that location, though, how come we can also access it by typing python?\n",
    "\n",
    "* We can do this because of the PATH environment variable, which is configured to point to several folders (creating a \"shortcut\"). We can run any program in any one of these folders just by typing the program's name. Because /usr/bin is one of the folders in PATH and python is in that folder, we can access the python interpreter just by typing python, instead of the full path."
   ]
  },
  {
   "cell_type": "code",
   "execution_count": null,
   "metadata": {
    "collapsed": true
   },
   "outputs": [],
   "source": []
  },
  {
   "cell_type": "markdown",
   "metadata": {},
   "source": [
    "### ls -flags\n",
    "\n",
    "reference page : http://man7.org/linux/man-pages/man1/ls.1.html"
   ]
  },
  {
   "cell_type": "markdown",
   "metadata": {},
   "source": [
    "```bash\n",
    "ls -al --ignore=test.txt\n",
    "ls -la --ignore=test.txt\n",
    "```"
   ]
  },
  {
   "cell_type": "code",
   "execution_count": null,
   "metadata": {
    "collapsed": true
   },
   "outputs": [],
   "source": []
  },
  {
   "cell_type": "markdown",
   "metadata": {},
   "source": [
    "# Command Line Python Scripting"
   ]
  },
  {
   "cell_type": "markdown",
   "metadata": {},
   "source": [
    "We can make a file that Python can execute on the command line by adding some lines of Python code to a blank file. Here's an example of Python code:"
   ]
  },
  {
   "cell_type": "markdown",
   "metadata": {},
   "source": [
    "```bash\n",
    "if __name__ == \"__main__\":\n",
    "    print(\"Welcome to a Python script\")\n",
    "```\n",
    "\n",
    "The code above will print Welcome to a Python script when we run it from the command line. To run it, we just need to put those lines into a file, save the file as file.py, and then call it with python file.py."
   ]
  },
  {
   "cell_type": "code",
   "execution_count": null,
   "metadata": {
    "collapsed": true
   },
   "outputs": [],
   "source": []
  },
  {
   "cell_type": "markdown",
   "metadata": {},
   "source": [
    "We can also edit a file directly from the terminal, without redirection. While there are a few programs that let us do this, the simplest is called nano. Nano is a command line text editor that lets us edit and save files directly from the terminal.\n",
    "\n",
    "* To run nano, type nano, followed by the name of the file you want to edit. For example, nano test.txt will open the test.txt file for editing.\n",
    "\n",
    "Once a file is open, we can make whatever changes we want, then **hit ctrl+x to quit. When we quit, the terminal will prompt us to save our work. Typing Y (for yes), then pressing Enter will save all changes.**"
   ]
  },
  {
   "cell_type": "markdown",
   "metadata": {},
   "source": [
    "```bash\n",
    "touch script.py\n",
    "nano script.py\n",
    "python script.py\n",
    "```"
   ]
  },
  {
   "cell_type": "code",
   "execution_count": null,
   "metadata": {
    "collapsed": true
   },
   "outputs": [],
   "source": []
  },
  {
   "cell_type": "markdown",
   "metadata": {},
   "source": [
    "install packages\n",
    "```bash\n",
    "pip install requests\n",
    "```"
   ]
  },
  {
   "cell_type": "code",
   "execution_count": null,
   "metadata": {
    "collapsed": true
   },
   "outputs": [],
   "source": []
  },
  {
   "cell_type": "markdown",
   "metadata": {},
   "source": [
    "### Virtual enviroments"
   ]
  },
  {
   "cell_type": "markdown",
   "metadata": {},
   "source": [
    "On the previous screen, we used the default version of pip to install requests for the python executable, which is Python version 2.\n",
    "\n",
    "#### What if we had wanted to install requests for Python 3 instead?\n",
    "Different projects can require different packages and Python versions. This type of version switching can become confusing.<br>\n",
    "\n",
    "For this reason, a computer system has one python executable, and we have to install all packages and libraries globally. **This means that every single project on a machine has to use the same version of Python, and the same version of every package.**<br>\n",
    "\n",
    "By default, we can't use different versions of Python without some hacks. One such hack is renaming python to python3 so we can have access to both Python 2 and Python 3.<br>\n",
    "\n",
    "#### A better solution is for each project we write to have its own version of Python, along with its own packages. \n",
    "This way, we don't need to worry that upgrading the version of a package will affect other projects on the system and cause them to stop working.\n",
    "\n",
    "Virtual environments, or virtualenvs, let us do this. We can create a new virtualenv with the virtualenv command. While we normally have to install the virtualenv package first in order to access this command, we've already installed it for you to simplify the process.\n",
    "\n",
    "Typing virtualenv main will create a virtualenv named main. It will create a folder in the current directory called main that will hold all of the packages we install into the virtual environment."
   ]
  },
  {
   "cell_type": "markdown",
   "metadata": {},
   "source": [
    "```bash\n",
    "virtualenv python2\n",
    "dir\n",
    "```\n",
    "* Note how it makes a folder called python2."
   ]
  },
  {
   "cell_type": "code",
   "execution_count": null,
   "metadata": {
    "collapsed": true
   },
   "outputs": [],
   "source": []
  },
  {
   "cell_type": "markdown",
   "metadata": {},
   "source": [
    "**By default,** virtualenv will use the python executable when it makes a new virtualenv, which means that it has the **same version of Python as the system.** In this case, we want to use python3 for our virtualenv instead. In order to do this, we pass the `-p` flag to the virtualenv command, which will allow us to change the Python interpreter that virtualenv uses.\n",
    "\n",
    "* In this case, we can type `virtualenv -p /usr/bin/python3 python3` to use Python 3 instead of Python 2."
   ]
  },
  {
   "cell_type": "markdown",
   "metadata": {},
   "source": [
    "```bash\n",
    "virtualenv -p /usr/bin/python3 python3\n",
    "source python3/bin/activate\n",
    "```\n",
    "* assuming that the virtualenv is called `python3`\n",
    "* assuming that the folder for the virtualenv in our current directory\n",
    "* how to exit : `deactivate`"
   ]
  },
  {
   "cell_type": "code",
   "execution_count": null,
   "metadata": {
    "collapsed": true
   },
   "outputs": [],
   "source": []
  },
  {
   "cell_type": "markdown",
   "metadata": {},
   "source": [
    "We can also look up which packages are currently installed (along with their versions) with `pip freeze`. \n",
    "* If we activate a virtualenv, all of the packages, including pip, will be from the virtualenv instead of the main system Python executable."
   ]
  },
  {
   "cell_type": "code",
   "execution_count": null,
   "metadata": {
    "collapsed": true
   },
   "outputs": [],
   "source": []
  },
  {
   "cell_type": "markdown",
   "metadata": {},
   "source": [
    "One of the great things about Python is that:\n",
    "### we can import functions from a package into a file. \n",
    "\n",
    "We can also import functions and classes from one file into another file. This gives us a powerful way to structure larger projects without having to put everything into one file.\n",
    "\n",
    "* We'll experiment with this style of import by writing a function in a file, and then importing it into another file.\n",
    "\n",
    "If there's a file named utils.py, we can import it into another file in the same directory using import utils. All of the functions and classes defined in utils.py will then be available using dot notation. If there's a function called keep_time() in utils.py, we can access it with utils.keep_time() after importing it."
   ]
  },
  {
   "cell_type": "code",
   "execution_count": null,
   "metadata": {
    "collapsed": true
   },
   "outputs": [],
   "source": []
  },
  {
   "cell_type": "markdown",
   "metadata": {},
   "source": [
    "Create a file called utils.py that contains the following code:\n",
    "\n",
    "```bash\n",
    "touch utils.py\n",
    "nano utils.py\n",
    "\n",
    "...\n",
    "\n",
    "def print_message():\n",
    "    print(\"Hello from another file!\")\n",
    "```\n",
    "\n",
    "Modify the original script.py file to contain this code instead:\n",
    "```bash\n",
    "nano script.py\n",
    "\n",
    "...\n",
    "\n",
    "import utils\n",
    "\n",
    "if __name__ == \"__main__\":\n",
    "    utils.print_message()\n",
    "```\n",
    "* Both script.py and utils.py should be in the same folder.\n",
    "* Finally, run python script.py to print out the message.\n",
    "\n",
    "```bash\n",
    "python script.py\n",
    "```"
   ]
  },
  {
   "cell_type": "code",
   "execution_count": null,
   "metadata": {
    "collapsed": true
   },
   "outputs": [],
   "source": []
  },
  {
   "cell_type": "markdown",
   "metadata": {},
   "source": [
    "We can also pass command line options into Python scripts. We can retrieve them from inside the script through the `sys` package.<br>\n",
    "\n",
    "Once we import the `sys` package, the `argv` list will allow us to retrieve the positional arguments passed into the script. We learned about positional arguments in the last mission -- they're the arguments that come after the command name. python `script.py 82` is one example. The first positional argument is `script.py`, and the second is `82`.<br>\n",
    "\n",
    "The following code will read input from the command line and print it back out. If the code is in a file named `script.py`, we'd call `python script.py \"Hello from the command line\"` to pass in the text we want to display.\n",
    "\n",
    "```bash\n",
    "nano script.py\n",
    "\n",
    "...\n",
    "\n",
    "import sys\n",
    "\n",
    "if __name__ == \"__main__\":\n",
    "    print(sys.argv[1])\n",
    "\n",
    "...\n",
    "\n",
    "python script.py \"Hello from the command line\"\n",
    "```\n",
    "* Notice that we printed the second item in the argv list (sys.argv[1]). This is because the arguments come after the python command, so the first argument is the name of the file we want to run. The second argument is the actual text that we want to print."
   ]
  },
  {
   "cell_type": "code",
   "execution_count": null,
   "metadata": {
    "collapsed": true
   },
   "outputs": [],
   "source": []
  },
  {
   "cell_type": "code",
   "execution_count": null,
   "metadata": {
    "collapsed": true
   },
   "outputs": [],
   "source": []
  },
  {
   "cell_type": "code",
   "execution_count": null,
   "metadata": {
    "collapsed": true
   },
   "outputs": [],
   "source": []
  },
  {
   "cell_type": "code",
   "execution_count": null,
   "metadata": {
    "collapsed": true
   },
   "outputs": [],
   "source": []
  }
 ],
 "metadata": {
  "kernelspec": {
   "display_name": "Python [default]",
   "language": "python",
   "name": "python3"
  },
  "language_info": {
   "codemirror_mode": {
    "name": "ipython",
    "version": 3
   },
   "file_extension": ".py",
   "mimetype": "text/x-python",
   "name": "python",
   "nbconvert_exporter": "python",
   "pygments_lexer": "ipython3",
   "version": "3.5.4"
  }
 },
 "nbformat": 4,
 "nbformat_minor": 2
}
