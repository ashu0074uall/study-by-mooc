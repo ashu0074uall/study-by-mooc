{
 "cells": [
  {
   "cell_type": "markdown",
   "metadata": {
    "collapsed": true
   },
   "source": [
    "# Dataquest.io\n",
    "### Guided Project: Visualizing Earnings Based On College Majors\n",
    "\n",
    "* data source: https://github.com/fivethirtyeight/data/tree/master/college-majors"
   ]
  },
  {
   "cell_type": "markdown",
   "metadata": {},
   "source": [
    "### Introduction for major features \n",
    "\n",
    "name|meaning\n",
    ":---:|:---:\n",
    "Rank | Rank by median earnings (the dataset is ordered by this column).\n",
    "Major_code | Major code.\n",
    "Major | Major description.\n",
    "Major_category | Category of major.\n",
    "Total | Total number of people with major.\n",
    "Sample_size | Sample size (unweighted) of full-time.\n",
    "Men | Male graduates.\n",
    "Women | Female graduates.\n",
    "ShareWomen | Women as share of total.\n",
    "Employed | Number employed.\n",
    "Median | Median salary of full-time, year-round workers.\n",
    "Low_wage_jobs | Number in low-wage service jobs.\n",
    "Full_time | Number employed 35 hours or more.\n",
    "Part_time | Number employed less than 35 hours."
   ]
  },
  {
   "cell_type": "code",
   "execution_count": null,
   "metadata": {
    "collapsed": true
   },
   "outputs": [],
   "source": [
    "import pandas as pd"
   ]
  },
  {
   "cell_type": "code",
   "execution_count": 1,
   "metadata": {
    "collapsed": true
   },
   "outputs": [],
   "source": [
    "%matplotlib inline"
   ]
  },
  {
   "cell_type": "code",
   "execution_count": null,
   "metadata": {
    "collapsed": true
   },
   "outputs": [],
   "source": []
  },
  {
   "cell_type": "code",
   "execution_count": null,
   "metadata": {
    "collapsed": true
   },
   "outputs": [],
   "source": []
  },
  {
   "cell_type": "code",
   "execution_count": null,
   "metadata": {
    "collapsed": true
   },
   "outputs": [],
   "source": []
  },
  {
   "cell_type": "code",
   "execution_count": null,
   "metadata": {
    "collapsed": true
   },
   "outputs": [],
   "source": []
  },
  {
   "cell_type": "code",
   "execution_count": null,
   "metadata": {
    "collapsed": true
   },
   "outputs": [],
   "source": []
  }
 ],
 "metadata": {
  "kernelspec": {
   "display_name": "Python 3",
   "language": "python",
   "name": "python3"
  },
  "language_info": {
   "codemirror_mode": {
    "name": "ipython",
    "version": 3
   },
   "file_extension": ".py",
   "mimetype": "text/x-python",
   "name": "python",
   "nbconvert_exporter": "python",
   "pygments_lexer": "ipython3",
   "version": "3.5.4"
  }
 },
 "nbformat": 4,
 "nbformat_minor": 1
}
