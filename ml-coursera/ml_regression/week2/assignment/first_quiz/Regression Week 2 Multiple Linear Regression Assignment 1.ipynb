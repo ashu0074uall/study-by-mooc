{
 "cells": [
  {
   "cell_type": "markdown",
   "metadata": {},
   "source": []
  },
  {
   "cell_type": "markdown",
   "metadata": {},
   "source": [
    "## Predicting House Prices (Multiple Variables)\n",
    "\n",
    "In this notebook you will use data on house sales in King County to predict prices using multiple regression. The first assignment will be about exploring multiple regression in particular exploring the impact of adding features to a regression and measuring error. In the second assignment you will implement a gradient descent algorithm. In this assignment you will:\n",
    "\n",
    "* Use SFrames to do some feature engineering\n",
    "* Use built-in GraphLab Create (or otherwise) functions to compute the regression weights (coefficients)\n",
    "* Given the regression weights, predictors and outcome write a function to compute the Residual Sum of Squares\n",
    "* Look at coefficients and interpret their meanings\n",
    "* Evaluate multiple models via RSS"
   ]
  },
  {
   "cell_type": "markdown",
   "metadata": {},
   "source": [
    "If instead you are using other tools to do your homework\n",
    "\n",
    "You are welcome, however, to write your own code and use any other libraries, like Pandas or R, to help you in the process. If you would like to take this path, follow the instructions below.\n",
    "\n",
    "1. If you are using SFrame, import graphlab and load in the house data, otherwise you can also download the csv. (Note that we will be using the training and testing csv files provided) e.g in python with SFrames:"
   ]
  },
  {
   "cell_type": "code",
   "execution_count": 1,
   "metadata": {
    "collapsed": true
   },
   "outputs": [],
   "source": [
    "# sales = graphlab.SFrame('kc_house_data.gl/')"
   ]
  },
  {
   "cell_type": "markdown",
   "metadata": {},
   "source": [
    "2. Although we often think of multiple regression as including multiple different features (e.g. # of bedrooms, square feet, and # of bathrooms) but **we can also consider transformations of existing variables e.g. the log of the square feet or even \"interaction\" variables such as the product of bedrooms and bathrooms**. Add 4 new variables in both your train_data and test_data.\n",
    "\n",
    "    * ‘bedrooms_squared’ = ‘bedrooms’x ‘bedrooms’\n",
    "    * ‘bed_bath_rooms’ = ‘bedrooms’x‘bathrooms’\n",
    "    * ‘log_sqft_living’ = log(‘sqft_living’)\n",
    "    * ‘lat_plus_long’ = ‘lat’ + ‘long’\n",
    "\n",
    "Before we continue let’s explain these new variables:\n",
    "\n",
    "Squaring bedrooms will increase the separation between not many bedrooms (e.g. 1) and lots of bedrooms (e.g. 4) since 1^2 = 1 but 4^2 = 16. Consequently this variable will mostly affect houses with many bedrooms.\n",
    "\n",
    "**Bedrooms times bathrooms is what's called an \"interaction\" variable**. It is large when both of them are large.\n",
    "\n",
    "### Taking the log of square feet has the effect of bringing large values closer together and spreading out small values.\n",
    "\n",
    "Adding latitude to longitude is non-sensical but we will do it anyway (you'll see why)\n",
    "\n",
    "For those students not using SFrames you should first download and import the training and testing data sets provided and then add the four new variables each to both data sets (training and testing)\n",
    "\n",
    "3. Quiz Question: what are the mean (arithmetic average) values of your 4 new variables on TEST data? (round to 2 digits)\n",
    "\n",
    "4. Use graphlab.linear_regression.create (or any other regression library/function) to estimate the regression coefficients/weights for predicting ‘price’ for the following three models:(In all 3 models include an intercept -- most software does this by default).\n",
    "\n",
    "Model 1: ‘sqft_living’, ‘bedrooms’, ‘bathrooms’, ‘lat’, and ‘long’\n",
    "Model 2: ‘sqft_living’, ‘bedrooms’, ‘bathrooms’, ‘lat’,‘long’, and ‘bed_bath_rooms’\n",
    "Model 3: ‘sqft_living’, ‘bedrooms’, ‘bathrooms’, ‘lat’,‘long’, ‘bed_bath_rooms’, ‘bedrooms_squared’, ‘log_sqft_living’, and ‘lat_plus_long’\n",
    "\n",
    "You’ll note that the three models here are **“nested”** in that all of the features of the Model 1 are in Model 2 and all of the features of Model 2 are in Model 3.\n",
    "\n",
    "If you use graphlab.linear_regression.create() to estimate these models please ensure that you set validation_set = None. This way you will get the same answer every time you run the code.\n",
    "\n",
    "Learn all three models on the TRAINING data set. Save your model results for quiz questions later.\n",
    "\n",
    "======================================================\n",
    "\n",
    "6. Quiz Question: What is the sign (positive or negative) for the coefficient/weight for ‘bathrooms’ in Model 1?\n",
    "\n",
    "7. Quiz Question: What is the sign (positive or negative) for the coefficient/weight for ‘bathrooms’ in Model 2?\n",
    "\n",
    "8. Is the sign for the coefficient the same in both models? Think about why this might be the case.\n",
    "\n",
    "9. Now using your three estimated models compute the RSS (Residual Sum of Squares) on the Training data.\n",
    "\n",
    "10. Quiz Question: Which model (1, 2 or 3) had the lowest RSS on TRAINING data?\n",
    "\n",
    "11. Now using your three estimated models compute the RSS on the Testing data\n",
    "\n",
    "12. Quiz Question: Which model (1, 2, or 3) had the lowest RSS on TESTING data?\n",
    "\n",
    "13. Did you get the same answer for 9 and 11? Think about why this might be the case."
   ]
  },
  {
   "cell_type": "markdown",
   "metadata": {},
   "source": []
  },
  {
   "cell_type": "markdown",
   "metadata": {},
   "source": []
  },
  {
   "cell_type": "markdown",
   "metadata": {},
   "source": []
  }
 ],
 "metadata": {
  "kernelspec": {
   "display_name": "Python 2",
   "language": "python",
   "name": "python2"
  },
  "language_info": {
   "codemirror_mode": {
    "name": "ipython",
    "version": 2
   },
   "file_extension": ".py",
   "mimetype": "text/x-python",
   "name": "python",
   "nbconvert_exporter": "python",
   "pygments_lexer": "ipython2",
   "version": "2.7.11"
  }
 },
 "nbformat": 4,
 "nbformat_minor": 0
}
